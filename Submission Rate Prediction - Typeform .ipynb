{
 "cells": [
  {
   "cell_type": "code",
   "execution_count": 434,
   "metadata": {},
   "outputs": [],
   "source": [
    "import pandas as pd\n",
    "import numpy as np\n",
    "import matplotlib.pyplot as plt\n",
    "from sklearn.linear_model import LinearRegression\n",
    "from sklearn.ensemble import  RandomForestRegressor\n",
    "from sklearn.model_selection import train_test_split\n",
    "from sklearn.metrics import mean_squared_error\n",
    "from statsmodels.api import OLS\n",
    "from sklearn.preprocessing import scale\n",
    "from sklearn.metrics import r2_score"
   ]
  },
  {
   "cell_type": "markdown",
   "metadata": {},
   "source": [
    "# Data Loading"
   ]
  },
  {
   "cell_type": "code",
   "execution_count": 435,
   "metadata": {},
   "outputs": [],
   "source": [
    "data=pd.read_csv(\"completion_rate.csv\")"
   ]
  },
  {
   "cell_type": "markdown",
   "metadata": {},
   "source": [
    "# Exploratory Data Analysis (EDA)"
   ]
  },
  {
   "cell_type": "code",
   "execution_count": 436,
   "metadata": {},
   "outputs": [
    {
     "data": {
      "text/html": [
       "<div>\n",
       "<style scoped>\n",
       "    .dataframe tbody tr th:only-of-type {\n",
       "        vertical-align: middle;\n",
       "    }\n",
       "\n",
       "    .dataframe tbody tr th {\n",
       "        vertical-align: top;\n",
       "    }\n",
       "\n",
       "    .dataframe thead th {\n",
       "        text-align: right;\n",
       "    }\n",
       "</style>\n",
       "<table border=\"1\" class=\"dataframe\">\n",
       "  <thead>\n",
       "    <tr style=\"text-align: right;\">\n",
       "      <th></th>\n",
       "      <th>form_id</th>\n",
       "      <th>views</th>\n",
       "      <th>submissions</th>\n",
       "      <th>feat_01</th>\n",
       "      <th>feat_02</th>\n",
       "      <th>feat_03</th>\n",
       "      <th>feat_04</th>\n",
       "      <th>feat_05</th>\n",
       "      <th>feat_06</th>\n",
       "      <th>feat_07</th>\n",
       "      <th>...</th>\n",
       "      <th>feat_38</th>\n",
       "      <th>feat_39</th>\n",
       "      <th>feat_40</th>\n",
       "      <th>feat_41</th>\n",
       "      <th>feat_42</th>\n",
       "      <th>feat_43</th>\n",
       "      <th>feat_44</th>\n",
       "      <th>feat_45</th>\n",
       "      <th>feat_46</th>\n",
       "      <th>feat_47</th>\n",
       "    </tr>\n",
       "  </thead>\n",
       "  <tbody>\n",
       "    <tr>\n",
       "      <td>0</td>\n",
       "      <td>1113027</td>\n",
       "      <td>33</td>\n",
       "      <td>27</td>\n",
       "      <td>0.0</td>\n",
       "      <td>0.0</td>\n",
       "      <td>0.0</td>\n",
       "      <td>0.0</td>\n",
       "      <td>0.0</td>\n",
       "      <td>0.0</td>\n",
       "      <td>1.0</td>\n",
       "      <td>...</td>\n",
       "      <td>0.0</td>\n",
       "      <td>0.0</td>\n",
       "      <td>0.0</td>\n",
       "      <td>0.0</td>\n",
       "      <td>0.0</td>\n",
       "      <td>0.0</td>\n",
       "      <td>0.0</td>\n",
       "      <td>2.0</td>\n",
       "      <td>1.0</td>\n",
       "      <td>2.0</td>\n",
       "    </tr>\n",
       "    <tr>\n",
       "      <td>1</td>\n",
       "      <td>1115313</td>\n",
       "      <td>147</td>\n",
       "      <td>111</td>\n",
       "      <td>0.0</td>\n",
       "      <td>2.0</td>\n",
       "      <td>0.0</td>\n",
       "      <td>0.0</td>\n",
       "      <td>0.0</td>\n",
       "      <td>0.0</td>\n",
       "      <td>0.0</td>\n",
       "      <td>...</td>\n",
       "      <td>0.0</td>\n",
       "      <td>0.0</td>\n",
       "      <td>0.0</td>\n",
       "      <td>0.0</td>\n",
       "      <td>0.0</td>\n",
       "      <td>0.0</td>\n",
       "      <td>0.0</td>\n",
       "      <td>0.0</td>\n",
       "      <td>0.0</td>\n",
       "      <td>0.0</td>\n",
       "    </tr>\n",
       "    <tr>\n",
       "      <td>2</td>\n",
       "      <td>1115907</td>\n",
       "      <td>528</td>\n",
       "      <td>136</td>\n",
       "      <td>0.0</td>\n",
       "      <td>1.0</td>\n",
       "      <td>0.0</td>\n",
       "      <td>0.0</td>\n",
       "      <td>1.0</td>\n",
       "      <td>0.0</td>\n",
       "      <td>6.0</td>\n",
       "      <td>...</td>\n",
       "      <td>0.0</td>\n",
       "      <td>0.0</td>\n",
       "      <td>0.0</td>\n",
       "      <td>0.0</td>\n",
       "      <td>1.0</td>\n",
       "      <td>1.0</td>\n",
       "      <td>0.0</td>\n",
       "      <td>0.0</td>\n",
       "      <td>0.0</td>\n",
       "      <td>30.0</td>\n",
       "    </tr>\n",
       "    <tr>\n",
       "      <td>3</td>\n",
       "      <td>1116299</td>\n",
       "      <td>55</td>\n",
       "      <td>21</td>\n",
       "      <td>0.0</td>\n",
       "      <td>2.0</td>\n",
       "      <td>0.0</td>\n",
       "      <td>0.0</td>\n",
       "      <td>0.0</td>\n",
       "      <td>1.0</td>\n",
       "      <td>2.0</td>\n",
       "      <td>...</td>\n",
       "      <td>0.0</td>\n",
       "      <td>0.0</td>\n",
       "      <td>0.0</td>\n",
       "      <td>1.0</td>\n",
       "      <td>0.0</td>\n",
       "      <td>0.0</td>\n",
       "      <td>0.0</td>\n",
       "      <td>0.0</td>\n",
       "      <td>0.0</td>\n",
       "      <td>7.0</td>\n",
       "    </tr>\n",
       "    <tr>\n",
       "      <td>4</td>\n",
       "      <td>1120373</td>\n",
       "      <td>62</td>\n",
       "      <td>54</td>\n",
       "      <td>0.0</td>\n",
       "      <td>0.0</td>\n",
       "      <td>0.0</td>\n",
       "      <td>0.0</td>\n",
       "      <td>1.0</td>\n",
       "      <td>0.0</td>\n",
       "      <td>4.0</td>\n",
       "      <td>...</td>\n",
       "      <td>0.0</td>\n",
       "      <td>0.0</td>\n",
       "      <td>0.0</td>\n",
       "      <td>0.0</td>\n",
       "      <td>1.0</td>\n",
       "      <td>1.0</td>\n",
       "      <td>1.0</td>\n",
       "      <td>11.0</td>\n",
       "      <td>7.0</td>\n",
       "      <td>21.0</td>\n",
       "    </tr>\n",
       "  </tbody>\n",
       "</table>\n",
       "<p>5 rows × 50 columns</p>\n",
       "</div>"
      ],
      "text/plain": [
       "   form_id  views  submissions  feat_01  feat_02  feat_03  feat_04  feat_05  \\\n",
       "0  1113027     33           27      0.0      0.0      0.0      0.0      0.0   \n",
       "1  1115313    147          111      0.0      2.0      0.0      0.0      0.0   \n",
       "2  1115907    528          136      0.0      1.0      0.0      0.0      1.0   \n",
       "3  1116299     55           21      0.0      2.0      0.0      0.0      0.0   \n",
       "4  1120373     62           54      0.0      0.0      0.0      0.0      1.0   \n",
       "\n",
       "   feat_06  feat_07  ...  feat_38  feat_39  feat_40  feat_41  feat_42  \\\n",
       "0      0.0      1.0  ...      0.0      0.0      0.0      0.0      0.0   \n",
       "1      0.0      0.0  ...      0.0      0.0      0.0      0.0      0.0   \n",
       "2      0.0      6.0  ...      0.0      0.0      0.0      0.0      1.0   \n",
       "3      1.0      2.0  ...      0.0      0.0      0.0      1.0      0.0   \n",
       "4      0.0      4.0  ...      0.0      0.0      0.0      0.0      1.0   \n",
       "\n",
       "   feat_43  feat_44  feat_45  feat_46  feat_47  \n",
       "0      0.0      0.0      2.0      1.0      2.0  \n",
       "1      0.0      0.0      0.0      0.0      0.0  \n",
       "2      1.0      0.0      0.0      0.0     30.0  \n",
       "3      0.0      0.0      0.0      0.0      7.0  \n",
       "4      1.0      1.0     11.0      7.0     21.0  \n",
       "\n",
       "[5 rows x 50 columns]"
      ]
     },
     "execution_count": 436,
     "metadata": {},
     "output_type": "execute_result"
    }
   ],
   "source": [
    "data.head()"
   ]
  },
  {
   "cell_type": "code",
   "execution_count": 437,
   "metadata": {},
   "outputs": [
    {
     "data": {
      "text/plain": [
       "(1031284, 50)"
      ]
     },
     "execution_count": 437,
     "metadata": {},
     "output_type": "execute_result"
    }
   ],
   "source": [
    "data.shape"
   ]
  },
  {
   "cell_type": "code",
   "execution_count": 438,
   "metadata": {},
   "outputs": [
    {
     "data": {
      "text/plain": [
       "(1031284,)"
      ]
     },
     "execution_count": 438,
     "metadata": {},
     "output_type": "execute_result"
    }
   ],
   "source": [
    "#to check how many uniquevalues for the form_id\n",
    "res=data.form_id.unique()\n",
    "res.shape"
   ]
  },
  {
   "cell_type": "code",
   "execution_count": 439,
   "metadata": {},
   "outputs": [
    {
     "name": "stdout",
     "output_type": "stream",
     "text": [
      "<class 'pandas.core.frame.DataFrame'>\n",
      "RangeIndex: 1031284 entries, 0 to 1031283\n",
      "Data columns (total 50 columns):\n",
      "form_id        1031284 non-null int64\n",
      "views          1031284 non-null int64\n",
      "submissions    1031284 non-null int64\n",
      "feat_01        1031284 non-null float64\n",
      "feat_02        1031284 non-null float64\n",
      "feat_03        1031284 non-null float64\n",
      "feat_04        1031284 non-null float64\n",
      "feat_05        1031284 non-null float64\n",
      "feat_06        1031284 non-null float64\n",
      "feat_07        1031284 non-null float64\n",
      "feat_08        1031284 non-null float64\n",
      "feat_09        1031284 non-null float64\n",
      "feat_10        1031284 non-null float64\n",
      "feat_11        1031284 non-null float64\n",
      "feat_12        1031284 non-null float64\n",
      "feat_13        1031284 non-null float64\n",
      "feat_14        1031284 non-null float64\n",
      "feat_15        1031284 non-null float64\n",
      "feat_16        1031284 non-null float64\n",
      "feat_17        1031284 non-null float64\n",
      "feat_18        1031284 non-null float64\n",
      "feat_19        1031284 non-null float64\n",
      "feat_20        1031284 non-null float64\n",
      "feat_21        1031284 non-null float64\n",
      "feat_22        1031284 non-null float64\n",
      "feat_23        1031284 non-null float64\n",
      "feat_24        1031284 non-null float64\n",
      "feat_25        1031284 non-null float64\n",
      "feat_26        1031284 non-null float64\n",
      "feat_27        1031284 non-null float64\n",
      "feat_28        1031284 non-null float64\n",
      "feat_29        1031284 non-null float64\n",
      "feat_30        1031284 non-null float64\n",
      "feat_31        1031284 non-null float64\n",
      "feat_32        1031284 non-null float64\n",
      "feat_33        1031284 non-null float64\n",
      "feat_34        1031284 non-null float64\n",
      "feat_35        1031284 non-null float64\n",
      "feat_36        1031284 non-null float64\n",
      "feat_37        1031284 non-null float64\n",
      "feat_38        1031284 non-null float64\n",
      "feat_39        1031284 non-null float64\n",
      "feat_40        1031284 non-null float64\n",
      "feat_41        1031284 non-null float64\n",
      "feat_42        1031284 non-null float64\n",
      "feat_43        1031284 non-null float64\n",
      "feat_44        1031284 non-null float64\n",
      "feat_45        1031284 non-null float64\n",
      "feat_46        1031284 non-null float64\n",
      "feat_47        1031284 non-null float64\n",
      "dtypes: float64(47), int64(3)\n",
      "memory usage: 393.4 MB\n"
     ]
    }
   ],
   "source": [
    "#to check the columns and their data types\n",
    "data.info()\n",
    "#data has only float and integer values\n",
    "#no variable has missing/null value "
   ]
  },
  {
   "cell_type": "code",
   "execution_count": 440,
   "metadata": {},
   "outputs": [
    {
     "data": {
      "text/html": [
       "<div>\n",
       "<style scoped>\n",
       "    .dataframe tbody tr th:only-of-type {\n",
       "        vertical-align: middle;\n",
       "    }\n",
       "\n",
       "    .dataframe tbody tr th {\n",
       "        vertical-align: top;\n",
       "    }\n",
       "\n",
       "    .dataframe thead th {\n",
       "        text-align: right;\n",
       "    }\n",
       "</style>\n",
       "<table border=\"1\" class=\"dataframe\">\n",
       "  <thead>\n",
       "    <tr style=\"text-align: right;\">\n",
       "      <th></th>\n",
       "      <th>form_id</th>\n",
       "      <th>views</th>\n",
       "      <th>submissions</th>\n",
       "      <th>feat_01</th>\n",
       "      <th>feat_02</th>\n",
       "      <th>feat_03</th>\n",
       "      <th>feat_04</th>\n",
       "      <th>feat_05</th>\n",
       "      <th>feat_06</th>\n",
       "      <th>feat_07</th>\n",
       "      <th>...</th>\n",
       "      <th>feat_38</th>\n",
       "      <th>feat_39</th>\n",
       "      <th>feat_40</th>\n",
       "      <th>feat_41</th>\n",
       "      <th>feat_42</th>\n",
       "      <th>feat_43</th>\n",
       "      <th>feat_44</th>\n",
       "      <th>feat_45</th>\n",
       "      <th>feat_46</th>\n",
       "      <th>feat_47</th>\n",
       "    </tr>\n",
       "  </thead>\n",
       "  <tbody>\n",
       "    <tr>\n",
       "      <td>count</td>\n",
       "      <td>1.031284e+06</td>\n",
       "      <td>1.031284e+06</td>\n",
       "      <td>1.031284e+06</td>\n",
       "      <td>1.031284e+06</td>\n",
       "      <td>1.031284e+06</td>\n",
       "      <td>1.031284e+06</td>\n",
       "      <td>1.031284e+06</td>\n",
       "      <td>1.031284e+06</td>\n",
       "      <td>1.031284e+06</td>\n",
       "      <td>1.031284e+06</td>\n",
       "      <td>...</td>\n",
       "      <td>1.031284e+06</td>\n",
       "      <td>1.031284e+06</td>\n",
       "      <td>1.031284e+06</td>\n",
       "      <td>1.031284e+06</td>\n",
       "      <td>1.031284e+06</td>\n",
       "      <td>1.031284e+06</td>\n",
       "      <td>1.031284e+06</td>\n",
       "      <td>1.031284e+06</td>\n",
       "      <td>1.031284e+06</td>\n",
       "      <td>1.031284e+06</td>\n",
       "    </tr>\n",
       "    <tr>\n",
       "      <td>mean</td>\n",
       "      <td>7.987444e+06</td>\n",
       "      <td>9.395541e+02</td>\n",
       "      <td>3.224132e+02</td>\n",
       "      <td>1.954515e-01</td>\n",
       "      <td>3.749122e-01</td>\n",
       "      <td>5.497322e-02</td>\n",
       "      <td>1.024936e-03</td>\n",
       "      <td>1.449494e-01</td>\n",
       "      <td>1.769047e-01</td>\n",
       "      <td>8.513950e-01</td>\n",
       "      <td>...</td>\n",
       "      <td>2.399572e-01</td>\n",
       "      <td>5.879176e-02</td>\n",
       "      <td>1.948299e-01</td>\n",
       "      <td>1.551163e-01</td>\n",
       "      <td>2.771681e-01</td>\n",
       "      <td>3.399791e-01</td>\n",
       "      <td>4.803430e-02</td>\n",
       "      <td>8.318746e-01</td>\n",
       "      <td>6.470032e-01</td>\n",
       "      <td>4.468738e+00</td>\n",
       "    </tr>\n",
       "    <tr>\n",
       "      <td>std</td>\n",
       "      <td>3.965056e+06</td>\n",
       "      <td>2.674871e+04</td>\n",
       "      <td>8.507656e+03</td>\n",
       "      <td>3.965481e-01</td>\n",
       "      <td>9.334260e-01</td>\n",
       "      <td>4.403415e-01</td>\n",
       "      <td>3.307117e-02</td>\n",
       "      <td>4.802633e-01</td>\n",
       "      <td>9.472932e-01</td>\n",
       "      <td>1.883366e+00</td>\n",
       "      <td>...</td>\n",
       "      <td>1.266072e+00</td>\n",
       "      <td>4.198431e-01</td>\n",
       "      <td>1.173311e+00</td>\n",
       "      <td>7.668222e-01</td>\n",
       "      <td>5.640830e-01</td>\n",
       "      <td>6.157581e-01</td>\n",
       "      <td>2.834470e-01</td>\n",
       "      <td>4.302039e+00</td>\n",
       "      <td>6.045358e+00</td>\n",
       "      <td>1.085162e+01</td>\n",
       "    </tr>\n",
       "    <tr>\n",
       "      <td>min</td>\n",
       "      <td>2.255130e+05</td>\n",
       "      <td>1.000000e+00</td>\n",
       "      <td>0.000000e+00</td>\n",
       "      <td>0.000000e+00</td>\n",
       "      <td>0.000000e+00</td>\n",
       "      <td>0.000000e+00</td>\n",
       "      <td>0.000000e+00</td>\n",
       "      <td>0.000000e+00</td>\n",
       "      <td>0.000000e+00</td>\n",
       "      <td>0.000000e+00</td>\n",
       "      <td>...</td>\n",
       "      <td>0.000000e+00</td>\n",
       "      <td>0.000000e+00</td>\n",
       "      <td>0.000000e+00</td>\n",
       "      <td>0.000000e+00</td>\n",
       "      <td>0.000000e+00</td>\n",
       "      <td>0.000000e+00</td>\n",
       "      <td>0.000000e+00</td>\n",
       "      <td>0.000000e+00</td>\n",
       "      <td>0.000000e+00</td>\n",
       "      <td>0.000000e+00</td>\n",
       "    </tr>\n",
       "    <tr>\n",
       "      <td>25%</td>\n",
       "      <td>3.849671e+06</td>\n",
       "      <td>3.600000e+01</td>\n",
       "      <td>1.700000e+01</td>\n",
       "      <td>0.000000e+00</td>\n",
       "      <td>0.000000e+00</td>\n",
       "      <td>0.000000e+00</td>\n",
       "      <td>0.000000e+00</td>\n",
       "      <td>0.000000e+00</td>\n",
       "      <td>0.000000e+00</td>\n",
       "      <td>0.000000e+00</td>\n",
       "      <td>...</td>\n",
       "      <td>0.000000e+00</td>\n",
       "      <td>0.000000e+00</td>\n",
       "      <td>0.000000e+00</td>\n",
       "      <td>0.000000e+00</td>\n",
       "      <td>0.000000e+00</td>\n",
       "      <td>0.000000e+00</td>\n",
       "      <td>0.000000e+00</td>\n",
       "      <td>0.000000e+00</td>\n",
       "      <td>0.000000e+00</td>\n",
       "      <td>0.000000e+00</td>\n",
       "    </tr>\n",
       "    <tr>\n",
       "      <td>50%</td>\n",
       "      <td>9.887946e+06</td>\n",
       "      <td>7.900000e+01</td>\n",
       "      <td>3.300000e+01</td>\n",
       "      <td>0.000000e+00</td>\n",
       "      <td>0.000000e+00</td>\n",
       "      <td>0.000000e+00</td>\n",
       "      <td>0.000000e+00</td>\n",
       "      <td>0.000000e+00</td>\n",
       "      <td>0.000000e+00</td>\n",
       "      <td>0.000000e+00</td>\n",
       "      <td>...</td>\n",
       "      <td>0.000000e+00</td>\n",
       "      <td>0.000000e+00</td>\n",
       "      <td>0.000000e+00</td>\n",
       "      <td>0.000000e+00</td>\n",
       "      <td>0.000000e+00</td>\n",
       "      <td>0.000000e+00</td>\n",
       "      <td>0.000000e+00</td>\n",
       "      <td>0.000000e+00</td>\n",
       "      <td>0.000000e+00</td>\n",
       "      <td>0.000000e+00</td>\n",
       "    </tr>\n",
       "    <tr>\n",
       "      <td>75%</td>\n",
       "      <td>1.149435e+07</td>\n",
       "      <td>2.260000e+02</td>\n",
       "      <td>9.000000e+01</td>\n",
       "      <td>0.000000e+00</td>\n",
       "      <td>0.000000e+00</td>\n",
       "      <td>0.000000e+00</td>\n",
       "      <td>0.000000e+00</td>\n",
       "      <td>0.000000e+00</td>\n",
       "      <td>0.000000e+00</td>\n",
       "      <td>1.000000e+00</td>\n",
       "      <td>...</td>\n",
       "      <td>0.000000e+00</td>\n",
       "      <td>0.000000e+00</td>\n",
       "      <td>0.000000e+00</td>\n",
       "      <td>0.000000e+00</td>\n",
       "      <td>1.000000e+00</td>\n",
       "      <td>1.000000e+00</td>\n",
       "      <td>0.000000e+00</td>\n",
       "      <td>0.000000e+00</td>\n",
       "      <td>0.000000e+00</td>\n",
       "      <td>5.000000e+00</td>\n",
       "    </tr>\n",
       "    <tr>\n",
       "      <td>max</td>\n",
       "      <td>1.350100e+07</td>\n",
       "      <td>1.226718e+07</td>\n",
       "      <td>6.754385e+06</td>\n",
       "      <td>1.000000e+00</td>\n",
       "      <td>5.500000e+01</td>\n",
       "      <td>7.800000e+01</td>\n",
       "      <td>5.000000e+00</td>\n",
       "      <td>8.700000e+01</td>\n",
       "      <td>9.600000e+01</td>\n",
       "      <td>1.240000e+02</td>\n",
       "      <td>...</td>\n",
       "      <td>1.050000e+02</td>\n",
       "      <td>4.600000e+01</td>\n",
       "      <td>1.000000e+02</td>\n",
       "      <td>1.350000e+02</td>\n",
       "      <td>8.700000e+01</td>\n",
       "      <td>8.700000e+01</td>\n",
       "      <td>8.700000e+01</td>\n",
       "      <td>5.900000e+02</td>\n",
       "      <td>2.065000e+03</td>\n",
       "      <td>1.145000e+03</td>\n",
       "    </tr>\n",
       "  </tbody>\n",
       "</table>\n",
       "<p>8 rows × 50 columns</p>\n",
       "</div>"
      ],
      "text/plain": [
       "            form_id         views   submissions       feat_01       feat_02  \\\n",
       "count  1.031284e+06  1.031284e+06  1.031284e+06  1.031284e+06  1.031284e+06   \n",
       "mean   7.987444e+06  9.395541e+02  3.224132e+02  1.954515e-01  3.749122e-01   \n",
       "std    3.965056e+06  2.674871e+04  8.507656e+03  3.965481e-01  9.334260e-01   \n",
       "min    2.255130e+05  1.000000e+00  0.000000e+00  0.000000e+00  0.000000e+00   \n",
       "25%    3.849671e+06  3.600000e+01  1.700000e+01  0.000000e+00  0.000000e+00   \n",
       "50%    9.887946e+06  7.900000e+01  3.300000e+01  0.000000e+00  0.000000e+00   \n",
       "75%    1.149435e+07  2.260000e+02  9.000000e+01  0.000000e+00  0.000000e+00   \n",
       "max    1.350100e+07  1.226718e+07  6.754385e+06  1.000000e+00  5.500000e+01   \n",
       "\n",
       "            feat_03       feat_04       feat_05       feat_06       feat_07  \\\n",
       "count  1.031284e+06  1.031284e+06  1.031284e+06  1.031284e+06  1.031284e+06   \n",
       "mean   5.497322e-02  1.024936e-03  1.449494e-01  1.769047e-01  8.513950e-01   \n",
       "std    4.403415e-01  3.307117e-02  4.802633e-01  9.472932e-01  1.883366e+00   \n",
       "min    0.000000e+00  0.000000e+00  0.000000e+00  0.000000e+00  0.000000e+00   \n",
       "25%    0.000000e+00  0.000000e+00  0.000000e+00  0.000000e+00  0.000000e+00   \n",
       "50%    0.000000e+00  0.000000e+00  0.000000e+00  0.000000e+00  0.000000e+00   \n",
       "75%    0.000000e+00  0.000000e+00  0.000000e+00  0.000000e+00  1.000000e+00   \n",
       "max    7.800000e+01  5.000000e+00  8.700000e+01  9.600000e+01  1.240000e+02   \n",
       "\n",
       "       ...       feat_38       feat_39       feat_40       feat_41  \\\n",
       "count  ...  1.031284e+06  1.031284e+06  1.031284e+06  1.031284e+06   \n",
       "mean   ...  2.399572e-01  5.879176e-02  1.948299e-01  1.551163e-01   \n",
       "std    ...  1.266072e+00  4.198431e-01  1.173311e+00  7.668222e-01   \n",
       "min    ...  0.000000e+00  0.000000e+00  0.000000e+00  0.000000e+00   \n",
       "25%    ...  0.000000e+00  0.000000e+00  0.000000e+00  0.000000e+00   \n",
       "50%    ...  0.000000e+00  0.000000e+00  0.000000e+00  0.000000e+00   \n",
       "75%    ...  0.000000e+00  0.000000e+00  0.000000e+00  0.000000e+00   \n",
       "max    ...  1.050000e+02  4.600000e+01  1.000000e+02  1.350000e+02   \n",
       "\n",
       "            feat_42       feat_43       feat_44       feat_45       feat_46  \\\n",
       "count  1.031284e+06  1.031284e+06  1.031284e+06  1.031284e+06  1.031284e+06   \n",
       "mean   2.771681e-01  3.399791e-01  4.803430e-02  8.318746e-01  6.470032e-01   \n",
       "std    5.640830e-01  6.157581e-01  2.834470e-01  4.302039e+00  6.045358e+00   \n",
       "min    0.000000e+00  0.000000e+00  0.000000e+00  0.000000e+00  0.000000e+00   \n",
       "25%    0.000000e+00  0.000000e+00  0.000000e+00  0.000000e+00  0.000000e+00   \n",
       "50%    0.000000e+00  0.000000e+00  0.000000e+00  0.000000e+00  0.000000e+00   \n",
       "75%    1.000000e+00  1.000000e+00  0.000000e+00  0.000000e+00  0.000000e+00   \n",
       "max    8.700000e+01  8.700000e+01  8.700000e+01  5.900000e+02  2.065000e+03   \n",
       "\n",
       "            feat_47  \n",
       "count  1.031284e+06  \n",
       "mean   4.468738e+00  \n",
       "std    1.085162e+01  \n",
       "min    0.000000e+00  \n",
       "25%    0.000000e+00  \n",
       "50%    0.000000e+00  \n",
       "75%    5.000000e+00  \n",
       "max    1.145000e+03  \n",
       "\n",
       "[8 rows x 50 columns]"
      ]
     },
     "execution_count": 440,
     "metadata": {},
     "output_type": "execute_result"
    }
   ],
   "source": [
    "#to have a look at summary statics\n",
    "data.describe()"
   ]
  },
  {
   "cell_type": "code",
   "execution_count": 450,
   "metadata": {},
   "outputs": [],
   "source": [
    "# Remove unnecessary columns\n",
    "X=data.drop(['form_id','views','submissions'],axis=1)\n",
    "y=(data.submissions.values/data.views.values)"
   ]
  },
  {
   "cell_type": "code",
   "execution_count": 451,
   "metadata": {},
   "outputs": [],
   "source": [
    "#scaling/standarizing column to 0 mean and unit variance\n",
    "for col in X.columns:\n",
    "    X[col]=scale(X[col])"
   ]
  },
  {
   "cell_type": "code",
   "execution_count": 453,
   "metadata": {},
   "outputs": [
    {
     "data": {
      "image/png": "[encoded data removed]",
      "text/plain": [
       "<Figure size 432x288 with 1 Axes>"
      ]
     },
     "metadata": {
      "needs_background": "light"
     },
     "output_type": "display_data"
    }
   ],
   "source": [
    "#plot the distribuion of the output variable ---- nice its reasonably normal\n",
    "plt.hist(y,bins='auto')\n",
    "plt.show()"
   ]
  },
  {
   "cell_type": "code",
   "execution_count": 454,
   "metadata": {},
   "outputs": [],
   "source": [
    "X['rate']=(data.submissions/data.views)\n",
    "corr=X[X.columns[1:]].corr()['rate'][:]\n",
    "X=X.drop(['rate'],axis=1)"
   ]
  },
  {
   "cell_type": "markdown",
   "metadata": {},
   "source": [
    "# check co-relation of the dependent variable with independent variables"
   ]
  },
  {
   "cell_type": "code",
   "execution_count": 455,
   "metadata": {},
   "outputs": [
    {
     "data": {
      "text/plain": [
       "feat_09   -0.141763\n",
       "feat_08   -0.128421\n",
       "feat_15   -0.086753\n",
       "feat_22   -0.078760\n",
       "feat_12   -0.062982\n",
       "feat_02   -0.051653\n",
       "feat_41   -0.050977\n",
       "feat_13   -0.045840\n",
       "feat_20   -0.044292\n",
       "feat_23   -0.042421\n",
       "feat_17   -0.042169\n",
       "feat_21   -0.039179\n",
       "feat_16   -0.035643\n",
       "feat_24   -0.031593\n",
       "feat_10   -0.030097\n",
       "feat_44   -0.019576\n",
       "feat_04   -0.017856\n",
       "feat_03   -0.017150\n",
       "feat_11   -0.015264\n",
       "feat_26   -0.015238\n",
       "feat_35   -0.010626\n",
       "feat_25   -0.010153\n",
       "feat_32   -0.009801\n",
       "feat_45   -0.009185\n",
       "feat_39   -0.007664\n",
       "feat_46   -0.004895\n",
       "feat_18   -0.004162\n",
       "feat_31   -0.003477\n",
       "feat_42   -0.002956\n",
       "feat_28   -0.000595\n",
       "feat_43    0.001833\n",
       "feat_05    0.003097\n",
       "feat_14    0.003141\n",
       "feat_29    0.003776\n",
       "feat_47    0.029068\n",
       "feat_37    0.032786\n",
       "feat_27    0.035493\n",
       "feat_30    0.036161\n",
       "feat_07    0.038192\n",
       "feat_40    0.051195\n",
       "feat_36    0.051386\n",
       "feat_38    0.051420\n",
       "feat_34    0.060819\n",
       "feat_06    0.060819\n",
       "feat_19    0.061773\n",
       "feat_33    0.083345\n",
       "rate       1.000000\n",
       "Name: rate, dtype: float64"
      ]
     },
     "execution_count": 455,
     "metadata": {},
     "output_type": "execute_result"
    }
   ],
   "source": [
    "#check the corelation with target variable --- there is no as such dependency of the output variables on input variables\n",
    "corr.sort_values()"
   ]
  },
  {
   "cell_type": "markdown",
   "metadata": {},
   "source": [
    "# Identify highly co-related features"
   ]
  },
  {
   "cell_type": "code",
   "execution_count": 456,
   "metadata": {},
   "outputs": [
    {
     "name": "stdout",
     "output_type": "stream",
     "text": [
      "['feat_34', 'feat_38']\n"
     ]
    }
   ],
   "source": [
    "# Create correlation matrix\n",
    "corr_matrix = X.corr().abs()\n",
    "\n",
    "# Select upper triangle of correlation matrix\n",
    "upper = corr_matrix.where(np.triu(np.ones(corr_matrix.shape), k=1).astype(np.bool))\n",
    "#print(upper)\n",
    "# Find features with correlation greater than 0.95\n",
    "to_drop = [column for column in upper.columns if any(upper[column] > 0.95)]\n",
    "print(\"Highly corelated variable \",to_drop)\n",
    "# Drop features \n",
    "#X.drop(to_drop, axis=1, inplace=True)"
   ]
  },
  {
   "cell_type": "markdown",
   "metadata": {},
   "source": [
    "# Outlier Detection and Removal"
   ]
  },
  {
   "cell_type": "code",
   "execution_count": 457,
   "metadata": {},
   "outputs": [],
   "source": [
    "from scipy import stats\n",
    "z_scores = stats.zscore(X)\n",
    "abs_z_scores = np.abs(z_scores)\n",
    "filtered_entries = (abs_z_scores < 3).all(axis=1)\n",
    "#remove outlier records from data\n",
    "# X = X[filtered_entries]\n",
    "# y = y[filtered_entries]"
   ]
  },
  {
   "cell_type": "code",
   "execution_count": 458,
   "metadata": {},
   "outputs": [
    {
     "name": "stdout",
     "output_type": "stream",
     "text": [
      "(1031284, 47)\n",
      "(1031284,)\n"
     ]
    }
   ],
   "source": [
    "print(X.shape)\n",
    "print(y.shape)"
   ]
  },
  {
   "cell_type": "markdown",
   "metadata": {},
   "source": [
    "# ML Modeling"
   ]
  },
  {
   "cell_type": "code",
   "execution_count": 459,
   "metadata": {},
   "outputs": [
    {
     "data": {
      "text/plain": [
       "((825027, 47), (206257, 47), (825027,), (206257,))"
      ]
     },
     "execution_count": 459,
     "metadata": {},
     "output_type": "execute_result"
    }
   ],
   "source": [
    "# randomly split the data\n",
    "train_x, test_x, train_y, test_y = train_test_split(X, y,test_size=0.20,random_state=0)\n",
    "\n",
    "# shape of train and test splits\n",
    "train_x.shape, test_x.shape, train_y.shape, test_y.shape"
   ]
  },
  {
   "cell_type": "markdown",
   "metadata": {},
   "source": [
    "# Linear regression"
   ]
  },
  {
   "cell_type": "code",
   "execution_count": 460,
   "metadata": {},
   "outputs": [],
   "source": [
    "import sklearn.metrics as metrics\n",
    "def regression_results(y_true, y_pred):\n",
    "\n",
    "    # Regression metrics\n",
    "    mean_absolute_error=metrics.mean_absolute_error(y_true, y_pred) \n",
    "    mse=metrics.mean_squared_error(y_true, y_pred) \n",
    "    median_absolute_error=metrics.median_absolute_error(y_true, y_pred)\n",
    "\n",
    "    print('MAE: ', round(mean_absolute_error,4))\n",
    "    print('MSE: ', round(mse,4))\n",
    "    print('RMSE: ', round(np.sqrt(mse),4))\n",
    "    print('R2: ', round(r2_score(y_true, y_pred),4))"
   ]
  },
  {
   "cell_type": "code",
   "execution_count": 462,
   "metadata": {},
   "outputs": [],
   "source": [
    "# create an object of the LinearRegression Model\n",
    "model_LR = LinearRegression()\n",
    "\n",
    "# fit the model with the training data\n",
    "model_LR.fit(train_x, train_y)\n",
    "\n",
    "# predict the target on train and test data \n",
    "predict_train_LR = model_LR.predict(train_x)\n",
    "predict_test_LR  = model_LR.predict(test_x)"
   ]
  },
  {
   "cell_type": "markdown",
   "metadata": {},
   "source": [
    "# Analysing Linear Regression Results"
   ]
  },
  {
   "cell_type": "code",
   "execution_count": 463,
   "metadata": {},
   "outputs": [
    {
     "name": "stdout",
     "output_type": "stream",
     "text": [
      "MAE:  0.178\n",
      "MSE:  0.0469\n",
      "RMSE:  0.2165\n",
      "R2:  0.0652\n"
     ]
    }
   ],
   "source": [
    "regression_results(test_y,predict_test_LR)\n",
    "#very poor results as expected --- only 6% of the variation is explaind by the given features"
   ]
  },
  {
   "cell_type": "markdown",
   "metadata": {},
   "source": [
    "# RandomForest Regression "
   ]
  },
  {
   "cell_type": "code",
   "execution_count": 464,
   "metadata": {},
   "outputs": [
    {
     "name": "stderr",
     "output_type": "stream",
     "text": [
      "C:\\ProgramData\\Anaconda3\\lib\\site-packages\\sklearn\\ensemble\\forest.py:245: FutureWarning: The default value of n_estimators will change from 10 in version 0.20 to 100 in 0.22.\n",
      "  \"10 in version 0.20 to 100 in 0.22.\", FutureWarning)\n"
     ]
    }
   ],
   "source": [
    "# create an object of the RandomForestRegressor\n",
    "model_RFR = RandomForestRegressor(max_depth=10)\n",
    "\n",
    "# fit the model with the training data\n",
    "model_RFR.fit(train_x, train_y)\n",
    "\n",
    "# predict the target on train and test data\n",
    "predict_train_RFR = model_RFR.predict(train_x)\n",
    "predict_test_RFR = model_RFR.predict(test_x)\n"
   ]
  },
  {
   "cell_type": "markdown",
   "metadata": {},
   "source": [
    "# Analysing RandomForest Regression Results"
   ]
  },
  {
   "cell_type": "code",
   "execution_count": 465,
   "metadata": {},
   "outputs": [
    {
     "name": "stdout",
     "output_type": "stream",
     "text": [
      "MAE:  0.1729\n",
      "MSE:  0.0445\n",
      "RMSE:  0.2111\n",
      "R2:  0.1116\n"
     ]
    }
   ],
   "source": [
    "regression_results(test_y,predict_test_RFR)"
   ]
  },
  {
   "cell_type": "markdown",
   "metadata": {},
   "source": [
    "# Feature Selection - top 10 to check how much accuracy falls"
   ]
  },
  {
   "cell_type": "code",
   "execution_count": 466,
   "metadata": {},
   "outputs": [
    {
     "data": {
      "image/png": "[encoded data removed]",
      "text/plain": [
       "<Figure size 720x720 with 1 Axes>"
      ]
     },
     "metadata": {
      "needs_background": "light"
     },
     "output_type": "display_data"
    }
   ],
   "source": [
    "# plot the 10 most important features \n",
    "plt.figure(figsize=(10,10))\n",
    "feat_importances = pd.Series(model_RFR.feature_importances_, index = train_x.columns)\n",
    "feat_importances.nlargest(10).plot(kind='barh');"
   ]
  },
  {
   "cell_type": "markdown",
   "metadata": {},
   "source": [
    "# Evaluating results after feature selection"
   ]
  },
  {
   "cell_type": "code",
   "execution_count": 469,
   "metadata": {},
   "outputs": [],
   "source": [
    "train_x_new=train_x[['feat_09','feat_33','feat_08','feat_22','feat_23','feat_47','feat_16','feat_02','feat_41','feat_45']]\n",
    "test_x_new=test_x[['feat_09','feat_33','feat_08','feat_22','feat_23','feat_47','feat_16','feat_02','feat_41','feat_45']]"
   ]
  },
  {
   "cell_type": "code",
   "execution_count": 470,
   "metadata": {},
   "outputs": [],
   "source": [
    "# fit the model with the training data\n",
    "model_RFR.fit(train_x_new, train_y)\n",
    "\n",
    "# predict the target on train and test data \n",
    "predict_train_RFR_new = model_RFR.predict(train_x_new)\n",
    "predict_test_RFR_new  = model_RFR.predict(test_x_new)"
   ]
  },
  {
   "cell_type": "code",
   "execution_count": 471,
   "metadata": {},
   "outputs": [
    {
     "name": "stdout",
     "output_type": "stream",
     "text": [
      "MAE:  0.1739\n",
      "MSE:  0.045\n",
      "RMSE:  0.2122\n",
      "R2:  0.1022\n"
     ]
    }
   ],
   "source": [
    "regression_results(test_y,predict_test_RFR_new)\n",
    "#there is fall of 1% in the value of R square "
   ]
  },
  {
   "cell_type": "markdown",
   "metadata": {},
   "source": [
    "# To compare regression results - top 10 samples in test data"
   ]
  },
  {
   "cell_type": "code",
   "execution_count": 472,
   "metadata": {},
   "outputs": [
    {
     "data": {
      "text/plain": [
       "array([0.66666667, 0.32795699, 0.7       , 0.61978022, 0.37037037,\n",
       "       0.15942029, 0.57581967, 0.18705036, 0.58035714, 0.44565217])"
      ]
     },
     "execution_count": 472,
     "metadata": {},
     "output_type": "execute_result"
    }
   ],
   "source": [
    "test_y[0:10]"
   ]
  },
  {
   "cell_type": "code",
   "execution_count": 473,
   "metadata": {},
   "outputs": [
    {
     "data": {
      "text/plain": [
       "array([0.42276547, 0.54561534, 0.57044182, 0.45576585, 0.54561534,\n",
       "       0.38683768, 0.52920523, 0.41145765, 0.4482848 , 0.57044182])"
      ]
     },
     "execution_count": 473,
     "metadata": {},
     "output_type": "execute_result"
    }
   ],
   "source": [
    "predict_test_RFR_new[0:10]"
   ]
  },
  {
   "cell_type": "markdown",
   "metadata": {},
   "source": [
    "# Lets try with deep learning model --- to get some new features "
   ]
  },
  {
   "cell_type": "code",
   "execution_count": 475,
   "metadata": {},
   "outputs": [],
   "source": [
    "import pandas\n",
    "from keras.models import Sequential\n",
    "from keras.layers import Dense\n",
    "from keras.wrappers.scikit_learn import KerasRegressor\n",
    "from sklearn.model_selection import cross_val_score\n",
    "from sklearn.model_selection import KFold\n",
    "from sklearn.preprocessing import StandardScaler\n",
    "from keras.callbacks import EarlyStopping"
   ]
  },
  {
   "cell_type": "code",
   "execution_count": 476,
   "metadata": {},
   "outputs": [
    {
     "name": "stdout",
     "output_type": "stream",
     "text": [
      "WARNING:tensorflow:From C:\\ProgramData\\Anaconda3\\lib\\site-packages\\keras\\backend\\tensorflow_backend.py:4138: The name tf.random_uniform is deprecated. Please use tf.random.uniform instead.\n",
      "\n"
     ]
    }
   ],
   "source": [
    "model = Sequential()\n",
    "model.add(Dense(100, input_dim=47, activation='relu'))\n",
    "model.add(Dense(200, activation='relu'))\n",
    "model.add(Dense(1,activation='sigmoid'))\n",
    "# Compile model\n",
    "model.compile(loss='mean_squared_error', optimizer='adam',metrics=['accuracy'])"
   ]
  },
  {
   "cell_type": "code",
   "execution_count": 477,
   "metadata": {},
   "outputs": [
    {
     "name": "stdout",
     "output_type": "stream",
     "text": [
      "Train on 825027 samples, validate on 206257 samples\n",
      "Epoch 1/10\n",
      "825027/825027 [==============================] - 21s 25us/step - loss: 0.0443 - acc: 0.0040 - val_loss: 0.0440 - val_acc: 0.0043\n",
      "Epoch 2/10\n",
      "825027/825027 [==============================] - 19s 23us/step - loss: 0.0436 - acc: 0.0041 - val_loss: 0.0438 - val_acc: 0.0042\n",
      "Epoch 3/10\n",
      "825027/825027 [==============================] - 20s 24us/step - loss: 0.0435 - acc: 0.0041 - val_loss: 0.0437 - val_acc: 0.0041\n",
      "Epoch 4/10\n",
      "825027/825027 [==============================] - 19s 23us/step - loss: 0.0433 - acc: 0.0041 - val_loss: 0.0436 - val_acc: 0.0042\n",
      "Epoch 5/10\n",
      "825027/825027 [==============================] - 19s 23us/step - loss: 0.0432 - acc: 0.0041 - val_loss: 0.0436 - val_acc: 0.0042\n",
      "Epoch 6/10\n",
      "825027/825027 [==============================] - 19s 23us/step - loss: 0.0431 - acc: 0.0041 - val_loss: 0.0435 - val_acc: 0.0042\n",
      "Epoch 7/10\n",
      "825027/825027 [==============================] - 19s 23us/step - loss: 0.0430 - acc: 0.0041 - val_loss: 0.0435 - val_acc: 0.0042\n",
      "Epoch 8/10\n",
      "825027/825027 [==============================] - 19s 23us/step - loss: 0.0430 - acc: 0.0040 - val_loss: 0.0435 - val_acc: 0.0042\n",
      "Epoch 9/10\n",
      "825027/825027 [==============================] - 19s 24us/step - loss: 0.0429 - acc: 0.0041 - val_loss: 0.0435 - val_acc: 0.0042\n"
     ]
    },
    {
     "data": {
      "text/plain": [
       "<keras.callbacks.History at 0x1aee8c8adc8>"
      ]
     },
     "execution_count": 477,
     "metadata": {},
     "output_type": "execute_result"
    }
   ],
   "source": [
    "model.fit(train_x, train_y,\n",
    "                epochs=10,\n",
    "                batch_size=256,\n",
    "                validation_data=(test_x, test_y),\n",
    "                callbacks=[EarlyStopping(monitor='val_loss', patience=3, min_delta=0.0001)])\n",
    "#again there is no improvement ---- conclusion these features are not representative to predict the form fill ratio"
   ]
  },
  {
   "cell_type": "code",
   "execution_count": null,
   "metadata": {},
   "outputs": [],
   "source": []
  }
 ],
 "metadata": {
  "kernelspec": {
   "display_name": "Python 3",
   "language": "python",
   "name": "python3"
  },
  "language_info": {
   "codemirror_mode": {
    "name": "ipython",
    "version": 3
   },
   "file_extension": ".py",
   "mimetype": "text/x-python",
   "name": "python",
   "nbconvert_exporter": "python",
   "pygments_lexer": "ipython3",
   "version": "3.7.4"
  }
 },
 "nbformat": 4,
 "nbformat_minor": 2
}
